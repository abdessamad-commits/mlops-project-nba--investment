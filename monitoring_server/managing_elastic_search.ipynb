{
 "cells": [
  {
   "attachments": {},
   "cell_type": "markdown",
   "metadata": {},
   "source": [
    "#### Useful Commands To Monitor Elasticsearch Service "
   ]
  },
  {
   "cell_type": "code",
   "execution_count": 3,
   "metadata": {},
   "outputs": [],
   "source": [
    "from elasticsearch import Elasticsearch"
   ]
  },
  {
   "cell_type": "code",
   "execution_count": 5,
   "metadata": {},
   "outputs": [],
   "source": [
    "# Instantiate the Elasticsearch client\n",
    "elastic = Elasticsearch(\"http://20.224.70.229:9200/\")"
   ]
  },
  {
   "cell_type": "code",
   "execution_count": 6,
   "metadata": {},
   "outputs": [
    {
     "name": "stderr",
     "output_type": "stream",
     "text": [
      "/tmp/ipykernel_87258/286022597.py:2: ElasticsearchWarning: Elasticsearch built-in security features are not enabled. Without authentication, your cluster could be accessible to anyone. See https://www.elastic.co/guide/en/elasticsearch/reference/7.16/security-minimal-setup.html to enable security.\n",
      "  elastic.indices.get_alias(index=\"*\")\n",
      "/tmp/ipykernel_87258/286022597.py:2: ElasticsearchWarning: this request accesses system indices: [.kibana_7.16.2_001, .kibana_task_manager_7.16.2_001, .tasks, .apm-agent-configuration, .apm-custom-link], but in a future major version, direct access to system indices will be prevented by default\n",
      "  elastic.indices.get_alias(index=\"*\")\n"
     ]
    },
    {
     "data": {
      "text/plain": [
       "ObjectApiResponse({'.kibana_7.16.2_001': {'aliases': {'.kibana': {}, '.kibana_7.16.2': {}}}, '.kibana_task_manager_7.16.2_001': {'aliases': {'.kibana_task_manager': {}, '.kibana_task_manager_7.16.2': {}}}, '.tasks': {'aliases': {}}, '.apm-agent-configuration': {'aliases': {}}, '.apm-custom-link': {'aliases': {}}, '.kibana-event-log-7.16.2-000001': {'aliases': {'.kibana-event-log-7.16.2': {'is_write_index': True, 'is_hidden': True}}}, 'nba-players-investment': {'aliases': {}}})"
      ]
     },
     "execution_count": 6,
     "metadata": {},
     "output_type": "execute_result"
    }
   ],
   "source": [
    "# View the indices on the elasticsearch server\n",
    "elastic.indices.get_alias(index=\"*\")"
   ]
  },
  {
   "cell_type": "code",
   "execution_count": 7,
   "metadata": {},
   "outputs": [],
   "source": [
    "# create a new index for the data\n",
    "#elastic.indices.create(index=\"nba-players-investment\")"
   ]
  },
  {
   "cell_type": "code",
   "execution_count": 8,
   "metadata": {},
   "outputs": [
    {
     "name": "stderr",
     "output_type": "stream",
     "text": [
      "/tmp/ipykernel_87258/587288764.py:2: ElasticsearchWarning: Elasticsearch built-in security features are not enabled. Without authentication, your cluster could be accessible to anyone. See https://www.elastic.co/guide/en/elasticsearch/reference/7.16/security-minimal-setup.html to enable security.\n",
      "  elastic.search(index=\"nba-players-investment\")\n"
     ]
    },
    {
     "data": {
      "text/plain": [
       "ObjectApiResponse({'took': 1, 'timed_out': False, '_shards': {'total': 1, 'successful': 1, 'skipped': 0, 'failed': 0}, 'hits': {'total': {'value': 212, 'relation': 'eq'}, 'max_score': 1.0, 'hits': [{'_index': 'nba-players-investment', '_type': '_doc', '_id': 'yO9ayIUBgwUwJDwUy2Nd', '_score': 1.0, '_source': {'prediction': 1, 'player': {'GP': 124.0, 'MIN': 98.0, 'PTS': 95.0, 'FGM': 179.0, 'FGA': 99.0, 'FG%': 150.0, '3P Made': 173.0, '3PA': 149.0, '3P%': 43.0, 'FTM': 24.0, 'FTA': 191.0, 'FT%': 164.0, 'OREB': 132.0, 'DREB': 16.0, 'REB': 84.0, 'AST': 163.0, 'STL': 115.0, 'BLK': 49.0, 'TOV': 157.0}, 'timestamp': '2023-01-19T04:47:51.641815'}}, {'_index': 'nba-players-investment', '_type': '_doc', '_id': 'ye9ayIUBgwUwJDwUzGMr', '_score': 1.0, '_source': {'prediction': 1, 'player': {'GP': 118.0, 'MIN': 31.0, 'PTS': 184.0, 'FGM': 6.0, 'FGA': 86.0, 'FG%': 185.0, '3P Made': 145.0, '3PA': 163.0, '3P%': 5.0, 'FTM': 13.0, 'FTA': 134.0, 'FT%': 160.0, 'OREB': 11.0, 'DREB': 36.0, 'REB': 110.0, 'AST': 56.0, 'STL': 129.0, 'BLK': 156.0, 'TOV': 9.0}, 'timestamp': '2023-01-19T04:47:51.849822'}}, {'_index': 'nba-players-investment', '_type': '_doc', '_id': 'yu9ayIUBgwUwJDwUzGPv', '_score': 1.0, '_source': {'prediction': 1, 'player': {'GP': 97.0, 'MIN': 66.0, 'PTS': 118.0, 'FGM': 86.0, 'FGA': 6.0, 'FG%': 174.0, '3P Made': 56.0, '3PA': 136.0, '3P%': 95.0, 'FTM': 97.0, 'FTA': 59.0, 'FT%': 105.0, 'OREB': 50.0, 'DREB': 188.0, 'REB': 136.0, 'AST': 59.0, 'STL': 165.0, 'BLK': 199.0, 'TOV': 199.0}, 'timestamp': '2023-01-19T04:47:52.046041'}}, {'_index': 'nba-players-investment', '_type': '_doc', '_id': 'y-9ayIUBgwUwJDwUzWOj', '_score': 1.0, '_source': {'prediction': 1, 'player': {'GP': 61.0, 'MIN': 120.0, 'PTS': 175.0, 'FGM': 166.0, 'FGA': 153.0, 'FG%': 120.0, '3P Made': 33.0, '3PA': 178.0, '3P%': 126.0, 'FTM': 163.0, 'FTA': 80.0, 'FT%': 162.0, 'OREB': 89.0, 'DREB': 96.0, 'REB': 28.0, 'AST': 58.0, 'STL': 106.0, 'BLK': 188.0, 'TOV': 57.0}, 'timestamp': '2023-01-19T04:47:52.226751'}}, {'_index': 'nba-players-investment', '_type': '_doc', '_id': 'zO9ayIUBgwUwJDwUzmN-', '_score': 1.0, '_source': {'prediction': 1, 'player': {'GP': 47.0, 'MIN': 5.0, 'PTS': 29.0, 'FGM': 173.0, 'FGA': 185.0, 'FG%': 125.0, '3P Made': 36.0, '3PA': 49.0, '3P%': 102.0, 'FTM': 45.0, 'FTA': 164.0, 'FT%': 19.0, 'OREB': 41.0, 'DREB': 92.0, 'REB': 69.0, 'AST': 32.0, 'STL': 190.0, 'BLK': 186.0, 'TOV': 127.0}, 'timestamp': '2023-01-19T04:47:52.444743'}}, {'_index': 'nba-players-investment', '_type': '_doc', '_id': '1u9ayIUBgwUwJDwU22NO', '_score': 1.0, '_source': {'prediction': 1, 'player': {'GP': 54.0, 'MIN': 45.0, 'PTS': 9.0, 'FGM': 183.0, 'FGA': 176.0, 'FG%': 189.0, '3P Made': 168.0, '3PA': 159.0, '3P%': 28.0, 'FTM': 62.0, 'FTA': 109.0, 'FT%': 7.0, 'OREB': 182.0, 'DREB': 106.0, 'REB': 85.0, 'AST': 88.0, 'STL': 5.0, 'BLK': 165.0, 'TOV': 159.0}, 'timestamp': '2023-01-19T04:47:55.725002'}}, {'_index': 'nba-players-investment', '_type': '_doc', '_id': '1-9ayIUBgwUwJDwU3GMi', '_score': 1.0, '_source': {'prediction': 1, 'player': {'GP': 69.0, 'MIN': 148.0, 'PTS': 134.0, 'FGM': 73.0, 'FGA': 188.0, 'FG%': 164.0, '3P Made': 129.0, '3PA': 151.0, '3P%': 97.0, 'FTM': 75.0, 'FTA': 13.0, 'FT%': 157.0, 'OREB': 19.0, 'DREB': 129.0, 'REB': 164.0, 'AST': 104.0, 'STL': 41.0, 'BLK': 62.0, 'TOV': 155.0}, 'timestamp': '2023-01-19T04:47:55.937220'}}, {'_index': 'nba-players-investment', '_type': '_doc', '_id': '2O9ayIUBgwUwJDwU3WMK', '_score': 1.0, '_source': {'prediction': 1, 'player': {'GP': 157.0, 'MIN': 190.0, 'PTS': 24.0, 'FGM': 143.0, 'FGA': 46.0, 'FG%': 13.0, '3P Made': 24.0, '3PA': 198.0, '3P%': 147.0, 'FTM': 193.0, 'FTA': 3.0, 'FT%': 134.0, 'OREB': 96.0, 'DREB': 130.0, 'REB': 91.0, 'AST': 138.0, 'STL': 122.0, 'BLK': 35.0, 'TOV': 47.0}, 'timestamp': '2023-01-19T04:47:56.168317'}}, {'_index': 'nba-players-investment', '_type': '_doc', '_id': '2e9ayIUBgwUwJDwU3WPs', '_score': 1.0, '_source': {'prediction': 1, 'player': {'GP': 129.0, 'MIN': 137.0, 'PTS': 116.0, 'FGM': 117.0, 'FGA': 145.0, 'FG%': 21.0, '3P Made': 63.0, '3PA': 114.0, '3P%': 25.0, 'FTM': 171.0, 'FTA': 5.0, 'FT%': 38.0, 'OREB': 178.0, 'DREB': 22.0, 'REB': 199.0, 'AST': 191.0, 'STL': 9.0, 'BLK': 134.0, 'TOV': 168.0}, 'timestamp': '2023-01-19T04:47:56.386482'}}, {'_index': 'nba-players-investment', '_type': '_doc', '_id': 'ze9ayIUBgwUwJDwUz2PP', '_score': 1.0, '_source': {'prediction': 1, 'player': {'GP': 178.0, 'MIN': 51.0, 'PTS': 165.0, 'FGM': 70.0, 'FGA': 69.0, 'FG%': 48.0, '3P Made': 42.0, '3PA': 10.0, '3P%': 74.0, 'FTM': 120.0, 'FTA': 83.0, 'FT%': 18.0, 'OREB': 32.0, 'DREB': 160.0, 'REB': 91.0, 'AST': 194.0, 'STL': 183.0, 'BLK': 93.0, 'TOV': 114.0}, 'timestamp': '2023-01-19T04:47:52.780314'}}]}})"
      ]
     },
     "execution_count": 8,
     "metadata": {},
     "output_type": "execute_result"
    }
   ],
   "source": [
    "# View the documents in the index nba-players-investment\n",
    "elastic.search(index=\"nba-players-investment\")"
   ]
  },
  {
   "cell_type": "code",
   "execution_count": 9,
   "metadata": {},
   "outputs": [
    {
     "name": "stderr",
     "output_type": "stream",
     "text": [
      "/tmp/ipykernel_87258/3573801115.py:2: ElasticsearchWarning: Elasticsearch built-in security features are not enabled. Without authentication, your cluster could be accessible to anyone. See https://www.elastic.co/guide/en/elasticsearch/reference/7.16/security-minimal-setup.html to enable security.\n",
      "  elastic.count(index=\"nba-players-investment\")\n"
     ]
    },
    {
     "data": {
      "text/plain": [
       "ObjectApiResponse({'count': 212, '_shards': {'total': 1, 'successful': 1, 'skipped': 0, 'failed': 0}})"
      ]
     },
     "execution_count": 9,
     "metadata": {},
     "output_type": "execute_result"
    }
   ],
   "source": [
    "# View the number of documents in the index nba-players-investment\n",
    "elastic.count(index=\"nba-players-investment\")"
   ]
  },
  {
   "cell_type": "code",
   "execution_count": 26,
   "metadata": {},
   "outputs": [
    {
     "name": "stderr",
     "output_type": "stream",
     "text": [
      "/var/folders/s7/50grnj415hqfsfwrxl886mdr0000gn/T/ipykernel_54019/3765411818.py:2: DeprecationWarning: The 'body' parameter is deprecated and will be removed in a future version. Instead use the 'document' parameter. See https://github.com/elastic/elasticsearch-py/issues/1698 for more information\n",
      "  elastic.index(index=\"nba-players-investment\", body={\"name\": \"Lebron James\", \"age\": 36, \"salary\": 37.44, \"investment\": 1})\n",
      "/var/folders/s7/50grnj415hqfsfwrxl886mdr0000gn/T/ipykernel_54019/3765411818.py:2: ElasticsearchWarning: Elasticsearch built-in security features are not enabled. Without authentication, your cluster could be accessible to anyone. See https://www.elastic.co/guide/en/elasticsearch/reference/7.16/security-minimal-setup.html to enable security.\n",
      "  elastic.index(index=\"nba-players-investment\", body={\"name\": \"Lebron James\", \"age\": 36, \"salary\": 37.44, \"investment\": 1})\n"
     ]
    },
    {
     "data": {
      "text/plain": [
       "ObjectApiResponse({'_index': 'nba-players-investment', '_type': '_doc', '_id': '-WwKyIUBZ8ZOGUbSdBNv', '_version': 1, 'result': 'created', '_shards': {'total': 2, 'successful': 1, 'failed': 0}, '_seq_no': 0, '_primary_term': 6})"
      ]
     },
     "execution_count": 26,
     "metadata": {},
     "output_type": "execute_result"
    }
   ],
   "source": [
    "# write the data to the index nba-players-investment\n",
    "#elastic.index(index=\"nba-players-investment\", body={\"name\": \"Lebron James\", \"age\": 36, \"salary\": 37.44, \"investment\": 1})"
   ]
  },
  {
   "cell_type": "code",
   "execution_count": null,
   "metadata": {},
   "outputs": [],
   "source": [
    "# delete of all the documents in the index nba-players-investment\n",
    "elastic.delete_by_query(index=\"nba-players-investment\", body={\"query\": {\"match_all\": {}}})"
   ]
  },
  {
   "cell_type": "code",
   "execution_count": 13,
   "metadata": {},
   "outputs": [
    {
     "name": "stderr",
     "output_type": "stream",
     "text": [
      "/var/folders/s7/50grnj415hqfsfwrxl886mdr0000gn/T/ipykernel_22881/250032272.py:2: ElasticsearchWarning: Elasticsearch built-in security features are not enabled. Without authentication, your cluster could be accessible to anyone. See https://www.elastic.co/guide/en/elasticsearch/reference/7.16/security-minimal-setup.html to enable security.\n",
      "  elastic.indices.delete(index=\"nba-players-investment\")\n"
     ]
    },
    {
     "data": {
      "text/plain": [
       "ObjectApiResponse({'acknowledged': True})"
      ]
     },
     "execution_count": 13,
     "metadata": {},
     "output_type": "execute_result"
    }
   ],
   "source": [
    "# Delete the index nba-players-investment, to be used when needed \n",
    "elastic.indices.delete(index=\"nba-players-investment\")"
   ]
  }
 ],
 "metadata": {
  "kernelspec": {
   "display_name": "mlops_project",
   "language": "python",
   "name": "python3"
  },
  "language_info": {
   "codemirror_mode": {
    "name": "ipython",
    "version": 3
   },
   "file_extension": ".py",
   "mimetype": "text/x-python",
   "name": "python",
   "nbconvert_exporter": "python",
   "pygments_lexer": "ipython3",
   "version": "3.9.15"
  },
  "orig_nbformat": 4,
  "vscode": {
   "interpreter": {
    "hash": "1fefd3844a520f8c7ce2ab4500e8a77315e4656ab13a234183579dcc2e703223"
   }
  }
 },
 "nbformat": 4,
 "nbformat_minor": 2
}
