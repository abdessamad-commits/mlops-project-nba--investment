{
 "cells": [
  {
   "attachments": {},
   "cell_type": "markdown",
   "metadata": {},
   "source": [
    "#### Useful Commands To Monitor Elasticsearch Service "
   ]
  },
  {
   "cell_type": "code",
   "execution_count": 1,
   "metadata": {},
   "outputs": [],
   "source": [
    "from elasticsearch import Elasticsearch"
   ]
  },
  {
   "cell_type": "code",
   "execution_count": 2,
   "metadata": {},
   "outputs": [],
   "source": [
    "# Instantiate the Elasticsearch client\n",
    "elastic = Elasticsearch(\"http://localhost:9200\")"
   ]
  },
  {
   "cell_type": "code",
   "execution_count": 4,
   "metadata": {},
   "outputs": [
    {
     "name": "stderr",
     "output_type": "stream",
     "text": [
      "/var/folders/s7/50grnj415hqfsfwrxl886mdr0000gn/T/ipykernel_22881/2408549622.py:2: ElasticsearchWarning: Elasticsearch built-in security features are not enabled. Without authentication, your cluster could be accessible to anyone. See https://www.elastic.co/guide/en/elasticsearch/reference/7.16/security-minimal-setup.html to enable security.\n",
      "  elastic.indices.get_alias(index=\"*\")\n",
      "/var/folders/s7/50grnj415hqfsfwrxl886mdr0000gn/T/ipykernel_22881/2408549622.py:2: ElasticsearchWarning: this request accesses system indices: [.apm-custom-link, .apm-agent-configuration, .kibana_task_manager_7.16.2_001, .async-search, .kibana_7.16.2_001], but in a future major version, direct access to system indices will be prevented by default\n",
      "  elastic.indices.get_alias(index=\"*\")\n"
     ]
    },
    {
     "data": {
      "text/plain": [
       "ObjectApiResponse({'.apm-custom-link': {'aliases': {}}, '.apm-agent-configuration': {'aliases': {}}, '.kibana_task_manager_7.16.2_001': {'aliases': {'.kibana_task_manager': {}, '.kibana_task_manager_7.16.2': {}}}, '.async-search': {'aliases': {}}, 'nba-players-investment': {'aliases': {}}, '.kibana-event-log-7.16.2-000001': {'aliases': {'.kibana-event-log-7.16.2': {'is_write_index': True, 'is_hidden': True}}}, '.kibana_7.16.2_001': {'aliases': {'.kibana': {}, '.kibana_7.16.2': {}}}})"
      ]
     },
     "execution_count": 4,
     "metadata": {},
     "output_type": "execute_result"
    }
   ],
   "source": [
    "# View the indices on the elasticsearch server\n",
    "elastic.indices.get_alias(index=\"*\")"
   ]
  },
  {
   "cell_type": "code",
   "execution_count": 5,
   "metadata": {},
   "outputs": [
    {
     "name": "stderr",
     "output_type": "stream",
     "text": [
      "/var/folders/s7/50grnj415hqfsfwrxl886mdr0000gn/T/ipykernel_22881/587288764.py:2: ElasticsearchWarning: Elasticsearch built-in security features are not enabled. Without authentication, your cluster could be accessible to anyone. See https://www.elastic.co/guide/en/elasticsearch/reference/7.16/security-minimal-setup.html to enable security.\n",
      "  elastic.search(index=\"nba-players-investment\")\n"
     ]
    },
    {
     "data": {
      "text/plain": [
       "ObjectApiResponse({'took': 37, 'timed_out': False, '_shards': {'total': 1, 'successful': 1, 'skipped': 0, 'failed': 0}, 'hits': {'total': {'value': 101, 'relation': 'eq'}, 'max_score': 1.0, 'hits': [{'_index': 'nba-players-investment', '_type': '_doc', '_id': 'omaHxYUBrde2-dz8g70A', '_score': 1.0, '_source': {'prediction': 0, 'player': {'GP': 11.0, 'MIN': 144.0, 'PTS': 110.0, 'FGM': 104.0, 'FGA': 57.0, 'FG%': 66.0, '3P Made': 126.0, '3PA': 20.0, '3P%': 20.0, 'FTM': 46.0, 'FTA': 104.0, 'FT%': 135.0, 'OREB': 61.0, 'DREB': 116.0, 'REB': 97.0, 'AST': 32.0, 'STL': 122.0, 'BLK': 123.0, 'TOV': 173.0}, 'timestamp': '2023-01-18T15:37:50.582961'}}, {'_index': 'nba-players-investment', '_type': '_doc', '_id': 'o2aHxYUBrde2-dz8hr1C', '_score': 1.0, '_source': {'prediction': 1, 'player': {'GP': 129.0, 'MIN': 137.0, 'PTS': 133.0, 'FGM': 147.0, 'FGA': 41.0, 'FG%': 190.0, '3P Made': 182.0, '3PA': 137.0, '3P%': 23.0, 'FTM': 86.0, 'FTA': 144.0, 'FT%': 150.0, 'OREB': 191.0, 'DREB': 178.0, 'REB': 165.0, 'AST': 90.0, 'STL': 48.0, 'BLK': 48.0, 'TOV': 68.0}, 'timestamp': '2023-01-18T15:37:51.425455'}}, {'_index': 'nba-players-investment', '_type': '_doc', '_id': 'pGaHxYUBrde2-dz8ib0Z', '_score': 1.0, '_source': {'prediction': 1, 'player': {'GP': 94.0, 'MIN': 62.0, 'PTS': 78.0, 'FGM': 71.0, 'FGA': 37.0, 'FG%': 70.0, '3P Made': 60.0, '3PA': 111.0, '3P%': 136.0, 'FTM': 184.0, 'FTA': 157.0, 'FT%': 180.0, 'OREB': 172.0, 'DREB': 128.0, 'REB': 89.0, 'AST': 61.0, 'STL': 90.0, 'BLK': 57.0, 'TOV': 181.0}, 'timestamp': '2023-01-18T15:37:52.151657'}}, {'_index': 'nba-players-investment', '_type': '_doc', '_id': 'pWaHxYUBrde2-dz8i721', '_score': 1.0, '_source': {'prediction': 1, 'player': {'GP': 44.0, 'MIN': 25.0, 'PTS': 181.0, 'FGM': 74.0, 'FGA': 129.0, 'FG%': 117.0, '3P Made': 56.0, '3PA': 1.0, '3P%': 133.0, 'FTM': 137.0, 'FTA': 48.0, 'FT%': 134.0, 'OREB': 3.0, 'DREB': 76.0, 'REB': 199.0, 'AST': 186.0, 'STL': 185.0, 'BLK': 166.0, 'TOV': 52.0}, 'timestamp': '2023-01-18T15:37:52.820283'}}, {'_index': 'nba-players-investment', '_type': '_doc', '_id': 'pmaHxYUBrde2-dz8jr0_', '_score': 1.0, '_source': {'prediction': 1, 'player': {'GP': 110.0, 'MIN': 109.0, 'PTS': 165.0, 'FGM': 120.0, 'FGA': 112.0, 'FG%': 176.0, '3P Made': 175.0, '3PA': 153.0, '3P%': 114.0, 'FTM': 49.0, 'FTA': 7.0, 'FT%': 177.0, 'OREB': 27.0, 'DREB': 34.0, 'REB': 113.0, 'AST': 103.0, 'STL': 120.0, 'BLK': 170.0, 'TOV': 86.0}, 'timestamp': '2023-01-18T15:37:53.470748'}}, {'_index': 'nba-players-investment', '_type': '_doc', '_id': 'p2aHxYUBrde2-dz8kL3z', '_score': 1.0, '_source': {'prediction': 1, 'player': {'GP': 43.0, 'MIN': 179.0, 'PTS': 67.0, 'FGM': 49.0, 'FGA': 96.0, 'FG%': 143.0, '3P Made': 120.0, '3PA': 111.0, '3P%': 88.0, 'FTM': 23.0, 'FTA': 101.0, 'FT%': 61.0, 'OREB': 7.0, 'DREB': 43.0, 'REB': 95.0, 'AST': 79.0, 'STL': 46.0, 'BLK': 29.0, 'TOV': 147.0}, 'timestamp': '2023-01-18T15:37:54.161310'}}, {'_index': 'nba-players-investment', '_type': '_doc', '_id': 'qGaHxYUBrde2-dz8k72B', '_score': 1.0, '_source': {'prediction': 1, 'player': {'GP': 19.0, 'MIN': 62.0, 'PTS': 36.0, 'FGM': 189.0, 'FGA': 185.0, 'FG%': 135.0, '3P Made': 53.0, '3PA': 54.0, '3P%': 194.0, 'FTM': 178.0, 'FTA': 164.0, 'FT%': 112.0, 'OREB': 63.0, 'DREB': 115.0, 'REB': 68.0, 'AST': 44.0, 'STL': 181.0, 'BLK': 40.0, 'TOV': 42.0}, 'timestamp': '2023-01-18T15:37:54.815784'}}, {'_index': 'nba-players-investment', '_type': '_doc', '_id': 'qWaHxYUBrde2-dz8lr10', '_score': 1.0, '_source': {'prediction': 1, 'player': {'GP': 161.0, 'MIN': 55.0, 'PTS': 147.0, 'FGM': 155.0, 'FGA': 148.0, 'FG%': 123.0, '3P Made': 110.0, '3PA': 51.0, '3P%': 37.0, 'FTM': 59.0, 'FTA': 123.0, 'FT%': 106.0, 'OREB': 50.0, 'DREB': 189.0, 'REB': 97.0, 'AST': 108.0, 'STL': 8.0, 'BLK': 8.0, 'TOV': 171.0}, 'timestamp': '2023-01-18T15:37:55.571316'}}, {'_index': 'nba-players-investment', '_type': '_doc', '_id': 'qmaHxYUBrde2-dz8mb3u', '_score': 1.0, '_source': {'prediction': 1, 'player': {'GP': 71.0, 'MIN': 185.0, 'PTS': 143.0, 'FGM': 18.0, 'FGA': 15.0, 'FG%': 176.0, '3P Made': 110.0, '3PA': 108.0, '3P%': 101.0, 'FTM': 63.0, 'FTA': 171.0, 'FT%': 106.0, 'OREB': 41.0, 'DREB': 100.0, 'REB': 16.0, 'AST': 93.0, 'STL': 188.0, 'BLK': 86.0, 'TOV': 33.0}, 'timestamp': '2023-01-18T15:37:56.459225'}}, {'_index': 'nba-players-investment', '_type': '_doc', '_id': 'q2aHxYUBrde2-dz8nb1f', '_score': 1.0, '_source': {'prediction': 1, 'player': {'GP': 50.0, 'MIN': 96.0, 'PTS': 47.0, 'FGM': 74.0, 'FGA': 80.0, 'FG%': 179.0, '3P Made': 173.0, '3PA': 108.0, '3P%': 196.0, 'FTM': 92.0, 'FTA': 172.0, 'FT%': 137.0, 'OREB': 83.0, 'DREB': 67.0, 'REB': 19.0, 'AST': 163.0, 'STL': 38.0, 'BLK': 23.0, 'TOV': 149.0}, 'timestamp': '2023-01-18T15:37:57.341205'}}]}})"
      ]
     },
     "execution_count": 5,
     "metadata": {},
     "output_type": "execute_result"
    }
   ],
   "source": [
    "# View the documents in the index nba-players-investment\n",
    "elastic.search(index=\"nba-players-investment\")"
   ]
  },
  {
   "cell_type": "code",
   "execution_count": 12,
   "metadata": {},
   "outputs": [
    {
     "name": "stderr",
     "output_type": "stream",
     "text": [
      "/var/folders/s7/50grnj415hqfsfwrxl886mdr0000gn/T/ipykernel_22881/3573801115.py:2: ElasticsearchWarning: Elasticsearch built-in security features are not enabled. Without authentication, your cluster could be accessible to anyone. See https://www.elastic.co/guide/en/elasticsearch/reference/7.16/security-minimal-setup.html to enable security.\n",
      "  elastic.count(index=\"nba-players-investment\")\n"
     ]
    },
    {
     "data": {
      "text/plain": [
       "ObjectApiResponse({'count': 101, '_shards': {'total': 1, 'successful': 1, 'skipped': 0, 'failed': 0}})"
      ]
     },
     "execution_count": 12,
     "metadata": {},
     "output_type": "execute_result"
    }
   ],
   "source": [
    "# View the number of documents in the index nba-players-investment\n",
    "elastic.count(index=\"nba-players-investment\")"
   ]
  },
  {
   "cell_type": "code",
   "execution_count": 13,
   "metadata": {},
   "outputs": [
    {
     "name": "stderr",
     "output_type": "stream",
     "text": [
      "/var/folders/s7/50grnj415hqfsfwrxl886mdr0000gn/T/ipykernel_22881/250032272.py:2: ElasticsearchWarning: Elasticsearch built-in security features are not enabled. Without authentication, your cluster could be accessible to anyone. See https://www.elastic.co/guide/en/elasticsearch/reference/7.16/security-minimal-setup.html to enable security.\n",
      "  elastic.indices.delete(index=\"nba-players-investment\")\n"
     ]
    },
    {
     "data": {
      "text/plain": [
       "ObjectApiResponse({'acknowledged': True})"
      ]
     },
     "execution_count": 13,
     "metadata": {},
     "output_type": "execute_result"
    }
   ],
   "source": [
    "# Delete the index nba-players-investment, to be used when needed \n",
    "elastic.indices.delete(index=\"nba-players-investment\")"
   ]
  }
 ],
 "metadata": {
  "kernelspec": {
   "display_name": "mlops_project",
   "language": "python",
   "name": "python3"
  },
  "language_info": {
   "codemirror_mode": {
    "name": "ipython",
    "version": 3
   },
   "file_extension": ".py",
   "mimetype": "text/x-python",
   "name": "python",
   "nbconvert_exporter": "python",
   "pygments_lexer": "ipython3",
   "version": "3.9.15"
  },
  "orig_nbformat": 4,
  "vscode": {
   "interpreter": {
    "hash": "c3f808c4c48daa8be2dd2e709df5458392156827742a7efba711ccaf61034bb0"
   }
  }
 },
 "nbformat": 4,
 "nbformat_minor": 2
}
