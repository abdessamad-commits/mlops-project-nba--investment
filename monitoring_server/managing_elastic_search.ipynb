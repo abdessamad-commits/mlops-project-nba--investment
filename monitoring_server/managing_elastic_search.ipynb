{
 "cells": [
  {
   "attachments": {},
   "cell_type": "markdown",
   "metadata": {},
   "source": [
    "#### Useful Commands To Monitor Elasticsearch Service "
   ]
  },
  {
   "cell_type": "code",
   "execution_count": 20,
   "metadata": {},
   "outputs": [],
   "source": [
    "from elasticsearch import Elasticsearch"
   ]
  },
  {
   "cell_type": "code",
   "execution_count": 21,
   "metadata": {},
   "outputs": [],
   "source": [
    "# Instantiate the Elasticsearch client\n",
    "elastic = Elasticsearch(\"http://20.224.70.229:9200/\")"
   ]
  },
  {
   "cell_type": "code",
   "execution_count": 22,
   "metadata": {},
   "outputs": [
    {
     "name": "stderr",
     "output_type": "stream",
     "text": [
      "/var/folders/s7/50grnj415hqfsfwrxl886mdr0000gn/T/ipykernel_54019/286022597.py:2: ElasticsearchWarning: Elasticsearch built-in security features are not enabled. Without authentication, your cluster could be accessible to anyone. See https://www.elastic.co/guide/en/elasticsearch/reference/7.16/security-minimal-setup.html to enable security.\n",
      "  elastic.indices.get_alias(index=\"*\")\n",
      "/var/folders/s7/50grnj415hqfsfwrxl886mdr0000gn/T/ipykernel_54019/286022597.py:2: ElasticsearchWarning: this request accesses system indices: [.tasks, .apm-agent-configuration, .kibana_task_manager_7.16.2_001, .apm-custom-link, .kibana_7.16.2_001], but in a future major version, direct access to system indices will be prevented by default\n",
      "  elastic.indices.get_alias(index=\"*\")\n"
     ]
    },
    {
     "data": {
      "text/plain": [
       "ObjectApiResponse({'.tasks': {'aliases': {}}, '.apm-agent-configuration': {'aliases': {}}, '.kibana_task_manager_7.16.2_001': {'aliases': {'.kibana_task_manager': {}, '.kibana_task_manager_7.16.2': {}}}, 'nba-players-investment': {'aliases': {}}, '.kibana-event-log-7.16.2-000001': {'aliases': {'.kibana-event-log-7.16.2': {'is_write_index': True, 'is_hidden': True}}}, '.apm-custom-link': {'aliases': {}}, '.kibana_7.16.2_001': {'aliases': {'.kibana': {}, '.kibana_7.16.2': {}}}})"
      ]
     },
     "execution_count": 22,
     "metadata": {},
     "output_type": "execute_result"
    }
   ],
   "source": [
    "# View the indices on the elasticsearch server\n",
    "elastic.indices.get_alias(index=\"*\")"
   ]
  },
  {
   "cell_type": "code",
   "execution_count": 28,
   "metadata": {},
   "outputs": [],
   "source": [
    "# create a new index for the data\n",
    "#elastic.indices.create(index=\"nba-players-investment\")"
   ]
  },
  {
   "cell_type": "code",
   "execution_count": 24,
   "metadata": {},
   "outputs": [
    {
     "name": "stderr",
     "output_type": "stream",
     "text": [
      "/var/folders/s7/50grnj415hqfsfwrxl886mdr0000gn/T/ipykernel_54019/587288764.py:2: ElasticsearchWarning: Elasticsearch built-in security features are not enabled. Without authentication, your cluster could be accessible to anyone. See https://www.elastic.co/guide/en/elasticsearch/reference/7.16/security-minimal-setup.html to enable security.\n",
      "  elastic.search(index=\"nba-players-investment\")\n"
     ]
    },
    {
     "data": {
      "text/plain": [
       "ObjectApiResponse({'took': 2, 'timed_out': False, '_shards': {'total': 1, 'successful': 1, 'skipped': 0, 'failed': 0}, 'hits': {'total': {'value': 0, 'relation': 'eq'}, 'max_score': None, 'hits': []}})"
      ]
     },
     "execution_count": 24,
     "metadata": {},
     "output_type": "execute_result"
    }
   ],
   "source": [
    "# View the documents in the index nba-players-investment\n",
    "elastic.search(index=\"nba-players-investment\")"
   ]
  },
  {
   "cell_type": "code",
   "execution_count": 25,
   "metadata": {},
   "outputs": [
    {
     "name": "stderr",
     "output_type": "stream",
     "text": [
      "/var/folders/s7/50grnj415hqfsfwrxl886mdr0000gn/T/ipykernel_54019/3573801115.py:2: ElasticsearchWarning: Elasticsearch built-in security features are not enabled. Without authentication, your cluster could be accessible to anyone. See https://www.elastic.co/guide/en/elasticsearch/reference/7.16/security-minimal-setup.html to enable security.\n",
      "  elastic.count(index=\"nba-players-investment\")\n"
     ]
    },
    {
     "data": {
      "text/plain": [
       "ObjectApiResponse({'count': 0, '_shards': {'total': 1, 'successful': 1, 'skipped': 0, 'failed': 0}})"
      ]
     },
     "execution_count": 25,
     "metadata": {},
     "output_type": "execute_result"
    }
   ],
   "source": [
    "# View the number of documents in the index nba-players-investment\n",
    "elastic.count(index=\"nba-players-investment\")"
   ]
  },
  {
   "cell_type": "code",
   "execution_count": 26,
   "metadata": {},
   "outputs": [
    {
     "name": "stderr",
     "output_type": "stream",
     "text": [
      "/var/folders/s7/50grnj415hqfsfwrxl886mdr0000gn/T/ipykernel_54019/3765411818.py:2: DeprecationWarning: The 'body' parameter is deprecated and will be removed in a future version. Instead use the 'document' parameter. See https://github.com/elastic/elasticsearch-py/issues/1698 for more information\n",
      "  elastic.index(index=\"nba-players-investment\", body={\"name\": \"Lebron James\", \"age\": 36, \"salary\": 37.44, \"investment\": 1})\n",
      "/var/folders/s7/50grnj415hqfsfwrxl886mdr0000gn/T/ipykernel_54019/3765411818.py:2: ElasticsearchWarning: Elasticsearch built-in security features are not enabled. Without authentication, your cluster could be accessible to anyone. See https://www.elastic.co/guide/en/elasticsearch/reference/7.16/security-minimal-setup.html to enable security.\n",
      "  elastic.index(index=\"nba-players-investment\", body={\"name\": \"Lebron James\", \"age\": 36, \"salary\": 37.44, \"investment\": 1})\n"
     ]
    },
    {
     "data": {
      "text/plain": [
       "ObjectApiResponse({'_index': 'nba-players-investment', '_type': '_doc', '_id': '-WwKyIUBZ8ZOGUbSdBNv', '_version': 1, 'result': 'created', '_shards': {'total': 2, 'successful': 1, 'failed': 0}, '_seq_no': 0, '_primary_term': 6})"
      ]
     },
     "execution_count": 26,
     "metadata": {},
     "output_type": "execute_result"
    }
   ],
   "source": [
    "# write the data to the index nba-players-investment\n",
    "elastic.index(index=\"nba-players-investment\", body={\"name\": \"Lebron James\", \"age\": 36, \"salary\": 37.44, \"investment\": 1})"
   ]
  },
  {
   "cell_type": "code",
   "execution_count": 13,
   "metadata": {},
   "outputs": [
    {
     "name": "stderr",
     "output_type": "stream",
     "text": [
      "/var/folders/s7/50grnj415hqfsfwrxl886mdr0000gn/T/ipykernel_22881/250032272.py:2: ElasticsearchWarning: Elasticsearch built-in security features are not enabled. Without authentication, your cluster could be accessible to anyone. See https://www.elastic.co/guide/en/elasticsearch/reference/7.16/security-minimal-setup.html to enable security.\n",
      "  elastic.indices.delete(index=\"nba-players-investment\")\n"
     ]
    },
    {
     "data": {
      "text/plain": [
       "ObjectApiResponse({'acknowledged': True})"
      ]
     },
     "execution_count": 13,
     "metadata": {},
     "output_type": "execute_result"
    }
   ],
   "source": [
    "# Delete the index nba-players-investment, to be used when needed \n",
    "elastic.indices.delete(index=\"nba-players-investment\")"
   ]
  }
 ],
 "metadata": {
  "kernelspec": {
   "display_name": "mlops_project",
   "language": "python",
   "name": "python3"
  },
  "language_info": {
   "codemirror_mode": {
    "name": "ipython",
    "version": 3
   },
   "file_extension": ".py",
   "mimetype": "text/x-python",
   "name": "python",
   "nbconvert_exporter": "python",
   "pygments_lexer": "ipython3",
   "version": "3.9.15"
  },
  "orig_nbformat": 4,
  "vscode": {
   "interpreter": {
    "hash": "c3f808c4c48daa8be2dd2e709df5458392156827742a7efba711ccaf61034bb0"
   }
  }
 },
 "nbformat": 4,
 "nbformat_minor": 2
}
