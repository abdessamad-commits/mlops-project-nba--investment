{
 "cells": [
  {
   "cell_type": "code",
   "execution_count": 1,
   "metadata": {},
   "outputs": [],
   "source": [
    "# import libraries\n",
    "import os \n",
    "\n",
    "import mlflow\n",
    "from pprint import pprint\n",
    "\n",
    "from helpers import read_data, test_model"
   ]
  },
  {
   "cell_type": "code",
   "execution_count": 2,
   "metadata": {},
   "outputs": [
    {
     "data": {
      "text/html": [
       "<div>\n",
       "<style scoped>\n",
       "    .dataframe tbody tr th:only-of-type {\n",
       "        vertical-align: middle;\n",
       "    }\n",
       "\n",
       "    .dataframe tbody tr th {\n",
       "        vertical-align: top;\n",
       "    }\n",
       "\n",
       "    .dataframe thead th {\n",
       "        text-align: right;\n",
       "    }\n",
       "</style>\n",
       "<table border=\"1\" class=\"dataframe\">\n",
       "  <thead>\n",
       "    <tr style=\"text-align: right;\">\n",
       "      <th></th>\n",
       "      <th>GP</th>\n",
       "      <th>MIN</th>\n",
       "      <th>PTS</th>\n",
       "      <th>FGM</th>\n",
       "      <th>FGA</th>\n",
       "      <th>FG%</th>\n",
       "      <th>3P Made</th>\n",
       "      <th>3PA</th>\n",
       "      <th>3P%</th>\n",
       "      <th>FTM</th>\n",
       "      <th>FTA</th>\n",
       "      <th>FT%</th>\n",
       "      <th>OREB</th>\n",
       "      <th>DREB</th>\n",
       "      <th>REB</th>\n",
       "      <th>AST</th>\n",
       "      <th>STL</th>\n",
       "      <th>BLK</th>\n",
       "      <th>TOV</th>\n",
       "      <th>TARGET_5Yrs</th>\n",
       "    </tr>\n",
       "  </thead>\n",
       "  <tbody>\n",
       "    <tr>\n",
       "      <th>0</th>\n",
       "      <td>82.0</td>\n",
       "      <td>33.0</td>\n",
       "      <td>17.1</td>\n",
       "      <td>7.0</td>\n",
       "      <td>14.3</td>\n",
       "      <td>49.0</td>\n",
       "      <td>0.0</td>\n",
       "      <td>0.1</td>\n",
       "      <td>20.0</td>\n",
       "      <td>3.0</td>\n",
       "      <td>4.4</td>\n",
       "      <td>68.7</td>\n",
       "      <td>3.7</td>\n",
       "      <td>4.2</td>\n",
       "      <td>8.0</td>\n",
       "      <td>2.4</td>\n",
       "      <td>1.2</td>\n",
       "      <td>0.5</td>\n",
       "      <td>3.0</td>\n",
       "      <td>1</td>\n",
       "    </tr>\n",
       "    <tr>\n",
       "      <th>1</th>\n",
       "      <td>74.0</td>\n",
       "      <td>26.4</td>\n",
       "      <td>7.8</td>\n",
       "      <td>3.1</td>\n",
       "      <td>7.4</td>\n",
       "      <td>41.6</td>\n",
       "      <td>0.1</td>\n",
       "      <td>0.7</td>\n",
       "      <td>21.2</td>\n",
       "      <td>1.5</td>\n",
       "      <td>2.3</td>\n",
       "      <td>65.9</td>\n",
       "      <td>0.3</td>\n",
       "      <td>1.6</td>\n",
       "      <td>1.9</td>\n",
       "      <td>4.5</td>\n",
       "      <td>0.7</td>\n",
       "      <td>0.1</td>\n",
       "      <td>2.2</td>\n",
       "      <td>1</td>\n",
       "    </tr>\n",
       "    <tr>\n",
       "      <th>2</th>\n",
       "      <td>67.0</td>\n",
       "      <td>16.9</td>\n",
       "      <td>5.1</td>\n",
       "      <td>2.0</td>\n",
       "      <td>3.4</td>\n",
       "      <td>59.6</td>\n",
       "      <td>0.0</td>\n",
       "      <td>0.0</td>\n",
       "      <td>0.0</td>\n",
       "      <td>1.1</td>\n",
       "      <td>1.8</td>\n",
       "      <td>57.7</td>\n",
       "      <td>1.6</td>\n",
       "      <td>2.9</td>\n",
       "      <td>4.5</td>\n",
       "      <td>0.6</td>\n",
       "      <td>0.5</td>\n",
       "      <td>0.3</td>\n",
       "      <td>0.8</td>\n",
       "      <td>0</td>\n",
       "    </tr>\n",
       "    <tr>\n",
       "      <th>3</th>\n",
       "      <td>79.0</td>\n",
       "      <td>26.3</td>\n",
       "      <td>10.8</td>\n",
       "      <td>4.2</td>\n",
       "      <td>8.5</td>\n",
       "      <td>49.9</td>\n",
       "      <td>0.0</td>\n",
       "      <td>0.1</td>\n",
       "      <td>25.0</td>\n",
       "      <td>2.3</td>\n",
       "      <td>3.2</td>\n",
       "      <td>73.1</td>\n",
       "      <td>2.2</td>\n",
       "      <td>3.5</td>\n",
       "      <td>5.7</td>\n",
       "      <td>2.2</td>\n",
       "      <td>0.7</td>\n",
       "      <td>0.7</td>\n",
       "      <td>1.5</td>\n",
       "      <td>1</td>\n",
       "    </tr>\n",
       "    <tr>\n",
       "      <th>4</th>\n",
       "      <td>82.0</td>\n",
       "      <td>20.8</td>\n",
       "      <td>8.5</td>\n",
       "      <td>3.1</td>\n",
       "      <td>6.3</td>\n",
       "      <td>49.1</td>\n",
       "      <td>0.1</td>\n",
       "      <td>0.4</td>\n",
       "      <td>36.7</td>\n",
       "      <td>2.1</td>\n",
       "      <td>2.7</td>\n",
       "      <td>77.2</td>\n",
       "      <td>1.4</td>\n",
       "      <td>2.6</td>\n",
       "      <td>4.0</td>\n",
       "      <td>1.3</td>\n",
       "      <td>0.8</td>\n",
       "      <td>0.8</td>\n",
       "      <td>1.3</td>\n",
       "      <td>1</td>\n",
       "    </tr>\n",
       "  </tbody>\n",
       "</table>\n",
       "</div>"
      ],
      "text/plain": [
       "     GP   MIN   PTS  FGM   FGA   FG%  3P Made  3PA   3P%  FTM  FTA   FT%  \\\n",
       "0  82.0  33.0  17.1  7.0  14.3  49.0      0.0  0.1  20.0  3.0  4.4  68.7   \n",
       "1  74.0  26.4   7.8  3.1   7.4  41.6      0.1  0.7  21.2  1.5  2.3  65.9   \n",
       "2  67.0  16.9   5.1  2.0   3.4  59.6      0.0  0.0   0.0  1.1  1.8  57.7   \n",
       "3  79.0  26.3  10.8  4.2   8.5  49.9      0.0  0.1  25.0  2.3  3.2  73.1   \n",
       "4  82.0  20.8   8.5  3.1   6.3  49.1      0.1  0.4  36.7  2.1  2.7  77.2   \n",
       "\n",
       "   OREB  DREB  REB  AST  STL  BLK  TOV  TARGET_5Yrs  \n",
       "0   3.7   4.2  8.0  2.4  1.2  0.5  3.0            1  \n",
       "1   0.3   1.6  1.9  4.5  0.7  0.1  2.2            1  \n",
       "2   1.6   2.9  4.5  0.6  0.5  0.3  0.8            0  \n",
       "3   2.2   3.5  5.7  2.2  0.7  0.7  1.5            1  \n",
       "4   1.4   2.6  4.0  1.3  0.8  0.8  1.3            1  "
      ]
     },
     "execution_count": 2,
     "metadata": {},
     "output_type": "execute_result"
    }
   ],
   "source": [
    "# import data\n",
    "data_path = os.path.abspath(os.path.join(os.getcwd(), os.pardir))+\"/data/nba_logreg_test.csv\"\n",
    "test = read_data(data_path, \"TARGET_5Yrs\")\n",
    "test.head() "
   ]
  },
  {
   "cell_type": "code",
   "execution_count": 3,
   "metadata": {},
   "outputs": [],
   "source": [
    "#  define test data\n",
    "X_test = test.drop(\"TARGET_5Yrs\", axis=1)\n",
    "y_test = test[\"TARGET_5Yrs\"]"
   ]
  },
  {
   "cell_type": "code",
   "execution_count": 4,
   "metadata": {},
   "outputs": [
    {
     "name": "stdout",
     "output_type": "stream",
     "text": [
      "Experiment ID: 1\n",
      "Experiment name: nba-investment-experiment\n"
     ]
    }
   ],
   "source": [
    "# set tracking uri\n",
    "mlflow.set_tracking_uri(\"http://20.224.70.229:5000/\")\n",
    "\n",
    "# set experiment name\n",
    "mlflow.set_experiment(\"nba-investment-experiment\")\n",
    "\n",
    "# initialize mlflow client\n",
    "client = mlflow.tracking.MlflowClient()\n",
    "\n",
    "# Search for experiments\n",
    "experiments = client.search_experiments()\n",
    "\n",
    "# Print the experiment ID and name for each experiment\n",
    "for experiment in experiments:\n",
    "    print(f\"Experiment ID: {experiment.experiment_id}\")\n",
    "    print(f\"Experiment name: {experiment.name}\")"
   ]
  },
  {
   "cell_type": "code",
   "execution_count": 5,
   "metadata": {},
   "outputs": [
    {
     "name": "stdout",
     "output_type": "stream",
     "text": [
      "{   'creation_timestamp': 1673525898445,\n",
      "    'current_stage': 'Archived',\n",
      "    'description': '',\n",
      "    'last_updated_timestamp': 1673525992717,\n",
      "    'name': 'nba-investment-prediction-model',\n",
      "    'run_id': '346cb05abd8d4f06b9a5574aa46644ab',\n",
      "    'run_link': '',\n",
      "    'source': 'mlflow-artifacts:/1/346cb05abd8d4f06b9a5574aa46644ab/artifacts/model',\n",
      "    'status': 'READY',\n",
      "    'status_message': '',\n",
      "    'tags': {},\n",
      "    'user_id': '',\n",
      "    'version': '2'}\n",
      "{   'creation_timestamp': 1673525948208,\n",
      "    'current_stage': 'Staging',\n",
      "    'description': '',\n",
      "    'last_updated_timestamp': 1673525992717,\n",
      "    'name': 'nba-investment-prediction-model',\n",
      "    'run_id': '92ba1717068040aba1137975e81e4b81',\n",
      "    'run_link': '',\n",
      "    'source': 'mlflow-artifacts:/1/92ba1717068040aba1137975e81e4b81/artifacts/model',\n",
      "    'status': 'READY',\n",
      "    'status_message': '',\n",
      "    'tags': {},\n",
      "    'user_id': '',\n",
      "    'version': '3'}\n",
      "{   'creation_timestamp': 1673525667721,\n",
      "    'current_stage': 'None',\n",
      "    'description': '',\n",
      "    'last_updated_timestamp': 1673525667721,\n",
      "    'name': 'nba-investment-prediction-model',\n",
      "    'run_id': '3732d8f338bd4ea98add95ace836cff9',\n",
      "    'run_link': '',\n",
      "    'source': 'mlflow-artifacts:/1/3732d8f338bd4ea98add95ace836cff9/artifacts/model',\n",
      "    'status': 'READY',\n",
      "    'status_message': '',\n",
      "    'tags': {},\n",
      "    'user_id': '',\n",
      "    'version': '1'}\n"
     ]
    }
   ],
   "source": [
    "for mv in client.search_model_versions(\"name='nba-investment-prediction-model'\"):\n",
    "    pprint(dict(mv), indent=4)"
   ]
  },
  {
   "cell_type": "code",
   "execution_count": 6,
   "metadata": {},
   "outputs": [
    {
     "data": {
      "text/plain": [
       "{'run_id': '346cb05abd8d4f06b9a5574aa46644ab',\n",
       " 'accuracy': 0.7052238805970149,\n",
       " 'precision': 0.7351351351351352,\n",
       " 'recall': 0.8192771084337349,\n",
       " 'f1': 0.774928774928775}"
      ]
     },
     "execution_count": 6,
     "metadata": {},
     "output_type": "execute_result"
    }
   ],
   "source": [
    "test_model(\"346cb05abd8d4f06b9a5574aa46644ab\", X_test, y_test)"
   ]
  },
  {
   "cell_type": "code",
   "execution_count": 7,
   "metadata": {},
   "outputs": [
    {
     "data": {
      "text/plain": [
       "{'run_id': '92ba1717068040aba1137975e81e4b81',\n",
       " 'accuracy': 0.7238805970149254,\n",
       " 'precision': 0.7705882352941177,\n",
       " 'recall': 0.7891566265060241,\n",
       " 'f1': 0.7797619047619048}"
      ]
     },
     "execution_count": 7,
     "metadata": {},
     "output_type": "execute_result"
    }
   ],
   "source": [
    "test_model(\"92ba1717068040aba1137975e81e4b81\", X_test, y_test)"
   ]
  },
  {
   "cell_type": "code",
   "execution_count": null,
   "metadata": {},
   "outputs": [],
   "source": []
  }
 ],
 "metadata": {
  "kernelspec": {
   "display_name": "mlops_project",
   "language": "python",
   "name": "python3"
  },
  "language_info": {
   "codemirror_mode": {
    "name": "ipython",
    "version": 3
   },
   "file_extension": ".py",
   "mimetype": "text/x-python",
   "name": "python",
   "nbconvert_exporter": "python",
   "pygments_lexer": "ipython3",
   "version": "3.9.15"
  },
  "orig_nbformat": 4,
  "vscode": {
   "interpreter": {
    "hash": "c3f808c4c48daa8be2dd2e709df5458392156827742a7efba711ccaf61034bb0"
   }
  }
 },
 "nbformat": 4,
 "nbformat_minor": 2
}
