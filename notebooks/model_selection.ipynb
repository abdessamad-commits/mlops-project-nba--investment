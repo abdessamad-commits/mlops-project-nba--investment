{
    "cells": [
        {
            "attachments": {},
            "cell_type": "markdown",
            "metadata": {},
            "source": [
                "This notebook showcase how a model is promoted to the production staging. Best performing model during hyper param tuning is registred in the mlflow registry and then is compared to the current model version in production, if it performs better the model is promoted to the production stage if not the model will be simply stored in the mlflow registry"
            ]
        },
        {
            "cell_type": "code",
            "execution_count": 1,
            "metadata": {},
            "outputs": [],
            "source": [
                "# import libraries\n",
                "import os \n",
                "\n",
                "import mlflow\n",
                "from pprint import pprint\n",
                "from minio import Minio\n",
                "\n",
                "from helpers import read_data, read_data_from_minio, test_model_by_registry_version, test_model_by_run_id, test_model_by_registry_all_versions"
            ]
        },
        {
            "cell_type": "code",
            "execution_count": 2,
            "metadata": {},
            "outputs": [
                {
                    "data": {
                        "text/plain": [
                            "'/home/abdoss/mlops-project-nba--investment/data/'"
                        ]
                    },
                    "execution_count": 2,
                    "metadata": {},
                    "output_type": "execute_result"
                }
            ],
            "source": [
                "# specify path to the local data directory \n",
                "data_path = f\"{os.path.abspath(os.path.join(os.getcwd(), os.pardir))}/data/\"\n",
                "data_path"
            ]
        },
        {
            "cell_type": "code",
            "execution_count": 3,
            "metadata": {},
            "outputs": [
                {
                    "data": {
                        "text/plain": [
                            "[Bucket('nba-investment-data')]"
                        ]
                    },
                    "execution_count": 3,
                    "metadata": {},
                    "output_type": "execute_result"
                }
            ],
            "source": [
                "# initialize minioClient with an endpoint and access/secret keys.\n",
                "minio_client = Minio('20.224.70.229:9000',\n",
                "                    access_key='abdessamadbaahmed',\n",
                "                    secret_key='baahmedabdessamad', secure=False)\n",
                "\n",
                "# list all buckets\n",
                "buckets = minio_client.list_buckets()\n",
                "buckets"
            ]
        },
        {
            "cell_type": "code",
            "execution_count": 4,
            "metadata": {},
            "outputs": [
                {
                    "data": {
                        "text/html": [
                            "<div>\n",
                            "<style scoped>\n",
                            "    .dataframe tbody tr th:only-of-type {\n",
                            "        vertical-align: middle;\n",
                            "    }\n",
                            "\n",
                            "    .dataframe tbody tr th {\n",
                            "        vertical-align: top;\n",
                            "    }\n",
                            "\n",
                            "    .dataframe thead th {\n",
                            "        text-align: right;\n",
                            "    }\n",
                            "</style>\n",
                            "<table border=\"1\" class=\"dataframe\">\n",
                            "  <thead>\n",
                            "    <tr style=\"text-align: right;\">\n",
                            "      <th></th>\n",
                            "      <th>GP</th>\n",
                            "      <th>MIN</th>\n",
                            "      <th>PTS</th>\n",
                            "      <th>FGM</th>\n",
                            "      <th>FGA</th>\n",
                            "      <th>FG%</th>\n",
                            "      <th>3P Made</th>\n",
                            "      <th>3PA</th>\n",
                            "      <th>3P%</th>\n",
                            "      <th>FTM</th>\n",
                            "      <th>FTA</th>\n",
                            "      <th>FT%</th>\n",
                            "      <th>OREB</th>\n",
                            "      <th>DREB</th>\n",
                            "      <th>REB</th>\n",
                            "      <th>AST</th>\n",
                            "      <th>STL</th>\n",
                            "      <th>BLK</th>\n",
                            "      <th>TOV</th>\n",
                            "      <th>TARGET_5Yrs</th>\n",
                            "    </tr>\n",
                            "  </thead>\n",
                            "  <tbody>\n",
                            "    <tr>\n",
                            "      <th>0</th>\n",
                            "      <td>82.0</td>\n",
                            "      <td>33.0</td>\n",
                            "      <td>17.1</td>\n",
                            "      <td>7.0</td>\n",
                            "      <td>14.3</td>\n",
                            "      <td>49.0</td>\n",
                            "      <td>0.0</td>\n",
                            "      <td>0.1</td>\n",
                            "      <td>20.0</td>\n",
                            "      <td>3.0</td>\n",
                            "      <td>4.4</td>\n",
                            "      <td>68.7</td>\n",
                            "      <td>3.7</td>\n",
                            "      <td>4.2</td>\n",
                            "      <td>8.0</td>\n",
                            "      <td>2.4</td>\n",
                            "      <td>1.2</td>\n",
                            "      <td>0.5</td>\n",
                            "      <td>3.0</td>\n",
                            "      <td>1</td>\n",
                            "    </tr>\n",
                            "    <tr>\n",
                            "      <th>1</th>\n",
                            "      <td>74.0</td>\n",
                            "      <td>26.4</td>\n",
                            "      <td>7.8</td>\n",
                            "      <td>3.1</td>\n",
                            "      <td>7.4</td>\n",
                            "      <td>41.6</td>\n",
                            "      <td>0.1</td>\n",
                            "      <td>0.7</td>\n",
                            "      <td>21.2</td>\n",
                            "      <td>1.5</td>\n",
                            "      <td>2.3</td>\n",
                            "      <td>65.9</td>\n",
                            "      <td>0.3</td>\n",
                            "      <td>1.6</td>\n",
                            "      <td>1.9</td>\n",
                            "      <td>4.5</td>\n",
                            "      <td>0.7</td>\n",
                            "      <td>0.1</td>\n",
                            "      <td>2.2</td>\n",
                            "      <td>1</td>\n",
                            "    </tr>\n",
                            "    <tr>\n",
                            "      <th>2</th>\n",
                            "      <td>67.0</td>\n",
                            "      <td>16.9</td>\n",
                            "      <td>5.1</td>\n",
                            "      <td>2.0</td>\n",
                            "      <td>3.4</td>\n",
                            "      <td>59.6</td>\n",
                            "      <td>0.0</td>\n",
                            "      <td>0.0</td>\n",
                            "      <td>0.0</td>\n",
                            "      <td>1.1</td>\n",
                            "      <td>1.8</td>\n",
                            "      <td>57.7</td>\n",
                            "      <td>1.6</td>\n",
                            "      <td>2.9</td>\n",
                            "      <td>4.5</td>\n",
                            "      <td>0.6</td>\n",
                            "      <td>0.5</td>\n",
                            "      <td>0.3</td>\n",
                            "      <td>0.8</td>\n",
                            "      <td>0</td>\n",
                            "    </tr>\n",
                            "    <tr>\n",
                            "      <th>3</th>\n",
                            "      <td>79.0</td>\n",
                            "      <td>26.3</td>\n",
                            "      <td>10.8</td>\n",
                            "      <td>4.2</td>\n",
                            "      <td>8.5</td>\n",
                            "      <td>49.9</td>\n",
                            "      <td>0.0</td>\n",
                            "      <td>0.1</td>\n",
                            "      <td>25.0</td>\n",
                            "      <td>2.3</td>\n",
                            "      <td>3.2</td>\n",
                            "      <td>73.1</td>\n",
                            "      <td>2.2</td>\n",
                            "      <td>3.5</td>\n",
                            "      <td>5.7</td>\n",
                            "      <td>2.2</td>\n",
                            "      <td>0.7</td>\n",
                            "      <td>0.7</td>\n",
                            "      <td>1.5</td>\n",
                            "      <td>1</td>\n",
                            "    </tr>\n",
                            "    <tr>\n",
                            "      <th>4</th>\n",
                            "      <td>82.0</td>\n",
                            "      <td>20.8</td>\n",
                            "      <td>8.5</td>\n",
                            "      <td>3.1</td>\n",
                            "      <td>6.3</td>\n",
                            "      <td>49.1</td>\n",
                            "      <td>0.1</td>\n",
                            "      <td>0.4</td>\n",
                            "      <td>36.7</td>\n",
                            "      <td>2.1</td>\n",
                            "      <td>2.7</td>\n",
                            "      <td>77.2</td>\n",
                            "      <td>1.4</td>\n",
                            "      <td>2.6</td>\n",
                            "      <td>4.0</td>\n",
                            "      <td>1.3</td>\n",
                            "      <td>0.8</td>\n",
                            "      <td>0.8</td>\n",
                            "      <td>1.3</td>\n",
                            "      <td>1</td>\n",
                            "    </tr>\n",
                            "  </tbody>\n",
                            "</table>\n",
                            "</div>"
                        ],
                        "text/plain": [
                            "     GP   MIN   PTS  FGM   FGA   FG%  3P Made  3PA   3P%  FTM  FTA   FT%  \\\n",
                            "0  82.0  33.0  17.1  7.0  14.3  49.0      0.0  0.1  20.0  3.0  4.4  68.7   \n",
                            "1  74.0  26.4   7.8  3.1   7.4  41.6      0.1  0.7  21.2  1.5  2.3  65.9   \n",
                            "2  67.0  16.9   5.1  2.0   3.4  59.6      0.0  0.0   0.0  1.1  1.8  57.7   \n",
                            "3  79.0  26.3  10.8  4.2   8.5  49.9      0.0  0.1  25.0  2.3  3.2  73.1   \n",
                            "4  82.0  20.8   8.5  3.1   6.3  49.1      0.1  0.4  36.7  2.1  2.7  77.2   \n",
                            "\n",
                            "   OREB  DREB  REB  AST  STL  BLK  TOV  TARGET_5Yrs  \n",
                            "0   3.7   4.2  8.0  2.4  1.2  0.5  3.0            1  \n",
                            "1   0.3   1.6  1.9  4.5  0.7  0.1  2.2            1  \n",
                            "2   1.6   2.9  4.5  0.6  0.5  0.3  0.8            0  \n",
                            "3   2.2   3.5  5.7  2.2  0.7  0.7  1.5            1  \n",
                            "4   1.4   2.6  4.0  1.3  0.8  0.8  1.3            1  "
                        ]
                    },
                    "metadata": {},
                    "output_type": "display_data"
                }
            ],
            "source": [
                "# read the data from minio and display the head, if it fails, read the data from the local directory\n",
                "try:\n",
                "    test = read_data_from_minio(minio_client, \"nba-investment-data\", \"nba_logreg_processed_test.csv\")\n",
                "    display(test.head())\n",
                "except Exception:\n",
                "    test = read_data(f\"{data_path}nba_logreg_processed_test.csv\")\n",
                "    test.head()"
            ]
        },
        {
            "cell_type": "code",
            "execution_count": 5,
            "metadata": {},
            "outputs": [],
            "source": [
                "#  define test data\n",
                "X_test = test.drop(\"TARGET_5Yrs\", axis=1)\n",
                "y_test = test[\"TARGET_5Yrs\"]"
            ]
        },
        {
            "cell_type": "code",
            "execution_count": 6,
            "metadata": {},
            "outputs": [
                {
                    "name": "stdout",
                    "output_type": "stream",
                    "text": [
                        "Experiment ID: 1\n",
                        "Experiment name: nba-investment-experiment\n"
                    ]
                }
            ],
            "source": [
                "# set tracking uri\n",
                "mlflow.set_tracking_uri(\"http://20.224.70.229:5000/\")\n",
                "\n",
                "# set experiment name\n",
                "mlflow.set_experiment(\"nba-investment-experiment\")\n",
                "\n",
                "# initialize mlflow client\n",
                "client = mlflow.tracking.MlflowClient()\n",
                "\n",
                "# Search for experiments\n",
                "experiments = client.search_experiments()\n",
                "\n",
                "# Print the experiment ID and name for each experiment\n",
                "for experiment in experiments:\n",
                "    print(f\"Experiment ID: {experiment.experiment_id}\")\n",
                "    print(f\"Experiment name: {experiment.name}\")"
            ]
        },
        {
            "cell_type": "code",
            "execution_count": 7,
            "metadata": {},
            "outputs": [
                {
                    "name": "stdout",
                    "output_type": "stream",
                    "text": [
                        "{   'creation_timestamp': 1673525898445,\n",
                        "    'current_stage': 'Archived',\n",
                        "    'description': '',\n",
                        "    'last_updated_timestamp': 1673525992717,\n",
                        "    'name': 'nba-investment-prediction-model',\n",
                        "    'run_id': '346cb05abd8d4f06b9a5574aa46644ab',\n",
                        "    'run_link': '',\n",
                        "    'source': 'mlflow-artifacts:/1/346cb05abd8d4f06b9a5574aa46644ab/artifacts/model',\n",
                        "    'status': 'READY',\n",
                        "    'status_message': '',\n",
                        "    'tags': {},\n",
                        "    'user_id': '',\n",
                        "    'version': '2'}\n",
                        "{   'creation_timestamp': 1673525948208,\n",
                        "    'current_stage': 'Staging',\n",
                        "    'description': '',\n",
                        "    'last_updated_timestamp': 1673525992717,\n",
                        "    'name': 'nba-investment-prediction-model',\n",
                        "    'run_id': '92ba1717068040aba1137975e81e4b81',\n",
                        "    'run_link': '',\n",
                        "    'source': 'mlflow-artifacts:/1/92ba1717068040aba1137975e81e4b81/artifacts/model',\n",
                        "    'status': 'READY',\n",
                        "    'status_message': '',\n",
                        "    'tags': {},\n",
                        "    'user_id': '',\n",
                        "    'version': '3'}\n",
                        "{   'creation_timestamp': 1673525667721,\n",
                        "    'current_stage': 'None',\n",
                        "    'description': '',\n",
                        "    'last_updated_timestamp': 1673525667721,\n",
                        "    'name': 'nba-investment-prediction-model',\n",
                        "    'run_id': '3732d8f338bd4ea98add95ace836cff9',\n",
                        "    'run_link': '',\n",
                        "    'source': 'mlflow-artifacts:/1/3732d8f338bd4ea98add95ace836cff9/artifacts/model',\n",
                        "    'status': 'READY',\n",
                        "    'status_message': '',\n",
                        "    'tags': {},\n",
                        "    'user_id': '',\n",
                        "    'version': '1'}\n"
                    ]
                }
            ],
            "source": [
                "for mv in client.search_model_versions(\"name='nba-investment-prediction-model'\"):\n",
                "    pprint(dict(mv), indent=4)"
            ]
        },
        {
            "cell_type": "code",
            "execution_count": 8,
            "metadata": {},
            "outputs": [
                {
                    "name": "stderr",
                    "output_type": "stream",
                    "text": [
                        "2023/01/19 11:41:09 WARNING mlflow.pyfunc: Detected one or more mismatches between the model's dependencies and the current Python environment:\n",
                        " - psutil (current: 5.9.0, required: psutil==5.9.4)\n",
                        " - typing-extensions (current: 4.2.0, required: typing-extensions==4.4.0)\n",
                        "To fix the mismatches, call `mlflow.pyfunc.get_model_dependencies(model_uri)` to fetch the model's environment and install dependencies using the resulting environment file.\n"
                    ]
                },
                {
                    "data": {
                        "text/plain": [
                            "{'model_name': 'nba-investment-model-f1',\n",
                            " 'model_version': 1,\n",
                            " 'accuracy': 0.7014925373134329,\n",
                            " 'precision': 0.7590361445783133,\n",
                            " 'recall': 0.7590361445783133,\n",
                            " 'f1': 0.7590361445783133}"
                        ]
                    },
                    "execution_count": 8,
                    "metadata": {},
                    "output_type": "execute_result"
                }
            ],
            "source": [
                "test_model_by_registry_version(\"nba-investment-model-f1\", 1, X_test, y_test)"
            ]
        },
        {
            "cell_type": "code",
            "execution_count": 9,
            "metadata": {},
            "outputs": [
                {
                    "name": "stderr",
                    "output_type": "stream",
                    "text": [
                        "2023/01/19 11:41:10 WARNING mlflow.pyfunc: Detected one or more mismatches between the model's dependencies and the current Python environment:\n",
                        " - psutil (current: 5.9.0, required: psutil==5.9.4)\n",
                        " - typing-extensions (current: 4.2.0, required: typing-extensions==4.4.0)\n",
                        "To fix the mismatches, call `mlflow.pyfunc.get_model_dependencies(model_uri)` to fetch the model's environment and install dependencies using the resulting environment file.\n",
                        "2023/01/19 11:41:11 WARNING mlflow.pyfunc: Detected one or more mismatches between the model's dependencies and the current Python environment:\n",
                        " - psutil (current: 5.9.0, required: psutil==5.9.4)\n",
                        " - typing-extensions (current: 4.2.0, required: typing-extensions==4.4.0)\n",
                        "To fix the mismatches, call `mlflow.pyfunc.get_model_dependencies(model_uri)` to fetch the model's environment and install dependencies using the resulting environment file.\n",
                        "2023/01/19 11:41:12 WARNING mlflow.pyfunc: Detected one or more mismatches between the model's dependencies and the current Python environment:\n",
                        " - psutil (current: 5.9.0, required: psutil==5.9.4)\n",
                        " - typing-extensions (current: 4.2.0, required: typing-extensions==4.4.0)\n",
                        "To fix the mismatches, call `mlflow.pyfunc.get_model_dependencies(model_uri)` to fetch the model's environment and install dependencies using the resulting environment file.\n",
                        "2023/01/19 11:41:12 WARNING mlflow.pyfunc: Detected one or more mismatches between the model's dependencies and the current Python environment:\n",
                        " - psutil (current: 5.9.0, required: psutil==5.9.4)\n",
                        " - typing-extensions (current: 4.2.0, required: typing-extensions==4.4.0)\n",
                        "To fix the mismatches, call `mlflow.pyfunc.get_model_dependencies(model_uri)` to fetch the model's environment and install dependencies using the resulting environment file.\n"
                    ]
                },
                {
                    "data": {
                        "text/html": [
                            "<div>\n",
                            "<style scoped>\n",
                            "    .dataframe tbody tr th:only-of-type {\n",
                            "        vertical-align: middle;\n",
                            "    }\n",
                            "\n",
                            "    .dataframe tbody tr th {\n",
                            "        vertical-align: top;\n",
                            "    }\n",
                            "\n",
                            "    .dataframe thead th {\n",
                            "        text-align: right;\n",
                            "    }\n",
                            "</style>\n",
                            "<table border=\"1\" class=\"dataframe\">\n",
                            "  <thead>\n",
                            "    <tr style=\"text-align: right;\">\n",
                            "      <th></th>\n",
                            "      <th>model_name</th>\n",
                            "      <th>model_version</th>\n",
                            "      <th>accuracy</th>\n",
                            "      <th>precision</th>\n",
                            "      <th>recall</th>\n",
                            "      <th>f1</th>\n",
                            "    </tr>\n",
                            "  </thead>\n",
                            "  <tbody>\n",
                            "    <tr>\n",
                            "      <th>4</th>\n",
                            "      <td>nba-investment-model-f1</td>\n",
                            "      <td>5</td>\n",
                            "      <td>0.735075</td>\n",
                            "      <td>0.768362</td>\n",
                            "      <td>0.819277</td>\n",
                            "      <td>0.793003</td>\n",
                            "    </tr>\n",
                            "    <tr>\n",
                            "      <th>3</th>\n",
                            "      <td>nba-investment-model-f1</td>\n",
                            "      <td>4</td>\n",
                            "      <td>0.731343</td>\n",
                            "      <td>0.761111</td>\n",
                            "      <td>0.825301</td>\n",
                            "      <td>0.791908</td>\n",
                            "    </tr>\n",
                            "    <tr>\n",
                            "      <th>2</th>\n",
                            "      <td>nba-investment-model-f1</td>\n",
                            "      <td>3</td>\n",
                            "      <td>0.731343</td>\n",
                            "      <td>0.776471</td>\n",
                            "      <td>0.795181</td>\n",
                            "      <td>0.785714</td>\n",
                            "    </tr>\n",
                            "    <tr>\n",
                            "      <th>5</th>\n",
                            "      <td>nba-investment-model-f1</td>\n",
                            "      <td>6</td>\n",
                            "      <td>0.716418</td>\n",
                            "      <td>0.758621</td>\n",
                            "      <td>0.795181</td>\n",
                            "      <td>0.776471</td>\n",
                            "    </tr>\n",
                            "    <tr>\n",
                            "      <th>1</th>\n",
                            "      <td>nba-investment-model-f1</td>\n",
                            "      <td>2</td>\n",
                            "      <td>0.705224</td>\n",
                            "      <td>0.766871</td>\n",
                            "      <td>0.753012</td>\n",
                            "      <td>0.759878</td>\n",
                            "    </tr>\n",
                            "    <tr>\n",
                            "      <th>0</th>\n",
                            "      <td>nba-investment-model-f1</td>\n",
                            "      <td>1</td>\n",
                            "      <td>0.701493</td>\n",
                            "      <td>0.759036</td>\n",
                            "      <td>0.759036</td>\n",
                            "      <td>0.759036</td>\n",
                            "    </tr>\n",
                            "  </tbody>\n",
                            "</table>\n",
                            "</div>"
                        ],
                        "text/plain": [
                            "                model_name  model_version  accuracy  precision    recall  \\\n",
                            "4  nba-investment-model-f1              5  0.735075   0.768362  0.819277   \n",
                            "3  nba-investment-model-f1              4  0.731343   0.761111  0.825301   \n",
                            "2  nba-investment-model-f1              3  0.731343   0.776471  0.795181   \n",
                            "5  nba-investment-model-f1              6  0.716418   0.758621  0.795181   \n",
                            "1  nba-investment-model-f1              2  0.705224   0.766871  0.753012   \n",
                            "0  nba-investment-model-f1              1  0.701493   0.759036  0.759036   \n",
                            "\n",
                            "         f1  \n",
                            "4  0.793003  \n",
                            "3  0.791908  \n",
                            "2  0.785714  \n",
                            "5  0.776471  \n",
                            "1  0.759878  \n",
                            "0  0.759036  "
                        ]
                    },
                    "execution_count": 9,
                    "metadata": {},
                    "output_type": "execute_result"
                }
            ],
            "source": [
                "test_model_by_registry_all_versions(\"nba-investment-model-f1\", X_test, y_test, sort_by=\"f1\")"
            ]
        },
        {
            "cell_type": "code",
            "execution_count": 10,
            "metadata": {},
            "outputs": [],
            "source": [
                "def transition_best_model_version_to_prod(X_test, y_test, model_name, metric, mlfow_client):\n",
                "    \"\"\"\n",
                "    The function transitions the best model version on the model registry to production by testing it on the test data \n",
                "    :param X_test: test features\n",
                "    :param y_test: test target\n",
                "    :param model_name: name of the model on the registry\n",
                "    :param metric: metric to use for model selection\n",
                "    :param mlfow_client: mlflow client\n",
                "    \n",
                "    :return: None\n",
                "    \"\"\"\n",
                "    \n",
                "    def test_model_by_registry_all_versions(X_test, y_test, model_name):\n",
                "        \"\"\"\n",
                "        the function tests all the versions of the model and returns a DataFrame with the evaluation metrics\n",
                "        \n",
                "        :param model_name: name of the model on the registry\n",
                "        :param X_test: test features\n",
                "        :param y_test: test target\n",
                "        \n",
                "        :return: dictionary with the evaluation metrics\n",
                "        \"\"\"\n",
                "        i = 0\n",
                "        res = []\n",
                "        while True:\n",
                "            try:\n",
                "                res.append(\n",
                "                    test_model_by_registry_version(model_name, i + 1, X_test, y_test)\n",
                "                )\n",
                "            except Exception:\n",
                "                break\n",
                "            i += 1\n",
                "        return res\n",
                "\n",
                "    testing_metrics = test_model_by_registry_all_versions(X_test, y_test, \"nba-investment-prediction-model\")\n",
                "        \n",
                "    max_version = None\n",
                "    max_metric = float('-inf')\n",
                "    for data in testing_metrics:\n",
                "        if data[metric] > max_metric:\n",
                "            max_metric = data[metric]\n",
                "            max_version = data[\"model_version\"]\n",
                "\n",
                "    mlfow_client.transition_model_version_stage(\n",
                "    name=model_name,\n",
                "    version=max_version,\n",
                "    stage=\"Production\"\n",
                "    )\n",
                "    return max_version\n"
            ]
        },
        {
            "cell_type": "code",
            "execution_count": 11,
            "metadata": {},
            "outputs": [
                {
                    "data": {
                        "text/plain": [
                            "1"
                        ]
                    },
                    "execution_count": 11,
                    "metadata": {},
                    "output_type": "execute_result"
                }
            ],
            "source": [
                "transition_best_model_version_to_prod(X_test, y_test, \"nba-investment-model-f1\", \"f1\", client)"
            ]
        },
        {
            "cell_type": "code",
            "execution_count": null,
            "metadata": {},
            "outputs": [],
            "source": []
        }
    ],
    "metadata": {
        "kernelspec": {
            "display_name": "myenv",
            "language": "python",
            "name": "python3"
        },
        "language_info": {
            "codemirror_mode": {
                "name": "ipython",
                "version": 3
            },
            "file_extension": ".py",
            "mimetype": "text/x-python",
            "name": "python",
            "nbconvert_exporter": "python",
            "pygments_lexer": "ipython3",
            "version": "3.9.15 (main, Nov 24 2022, 14:31:59) \n[GCC 11.2.0]"
        },
        "orig_nbformat": 4,
        "vscode": {
            "interpreter": {
                "hash": "fd46feb7e0147983149647a75fbf075b39fb418d085863eceb19864a09e283c5"
            }
        }
    },
    "nbformat": 4,
    "nbformat_minor": 2
}
