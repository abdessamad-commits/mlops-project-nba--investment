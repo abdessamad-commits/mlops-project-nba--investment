{
    "cells": [
        {
            "cell_type": "code",
            "execution_count": 1,
            "metadata": {},
            "outputs": [],
            "source": [
                "# import libraries\n",
                "import os \n",
                "\n",
                "import pandas as pd \n",
                "import numpy as np\n",
                "import matplotlib.pyplot as plt\n",
                "\n",
                "from sklearn.model_selection import train_test_split\n",
                "\n",
                "from helpers import *\n",
                "from minio import Minio"
            ]
        },
        {
            "cell_type": "code",
            "execution_count": 2,
            "metadata": {},
            "outputs": [
                {
                    "data": {
                        "text/plain": [
                            "'/home/abdoss/mlops-project-nba--investment/data/'"
                        ]
                    },
                    "execution_count": 2,
                    "metadata": {},
                    "output_type": "execute_result"
                }
            ],
            "source": [
                "# specify path to the local data directory \n",
                "data_path = f\"{os.path.abspath(os.path.join(os.getcwd(), os.pardir))}/data/\"\n",
                "data_path"
            ]
        },
        {
            "cell_type": "code",
            "execution_count": 3,
            "metadata": {},
            "outputs": [
                {
                    "data": {
                        "text/plain": [
                            "[Bucket('nba-investment-data')]"
                        ]
                    },
                    "execution_count": 3,
                    "metadata": {},
                    "output_type": "execute_result"
                }
            ],
            "source": [
                "# initialize minioClient with an endpoint and access/secret keys.\n",
                "minio_client = Minio('20.224.70.229:9000',\n",
                "                    access_key='abdessamadbaahmed',\n",
                "                    secret_key='baahmedabdessamad', secure=False)\n",
                "\n",
                "# list all buckets\n",
                "buckets = minio_client.list_buckets()\n",
                "buckets"
            ]
        },
        {
            "cell_type": "code",
            "execution_count": 4,
            "metadata": {},
            "outputs": [],
            "source": [
                "# upload a file to a bucket\n",
                "#minio_client.fput_object(\"nba-investment-data\", \"nba_logreg_raw.csv\", data_path + \"nba_logreg_raw.csv\")"
            ]
        },
        {
            "cell_type": "code",
            "execution_count": 5,
            "metadata": {},
            "outputs": [
                {
                    "data": {
                        "text/html": [
                            "<div>\n",
                            "<style scoped>\n",
                            "    .dataframe tbody tr th:only-of-type {\n",
                            "        vertical-align: middle;\n",
                            "    }\n",
                            "\n",
                            "    .dataframe tbody tr th {\n",
                            "        vertical-align: top;\n",
                            "    }\n",
                            "\n",
                            "    .dataframe thead th {\n",
                            "        text-align: right;\n",
                            "    }\n",
                            "</style>\n",
                            "<table border=\"1\" class=\"dataframe\">\n",
                            "  <thead>\n",
                            "    <tr style=\"text-align: right;\">\n",
                            "      <th></th>\n",
                            "      <th>Name</th>\n",
                            "      <th>GP</th>\n",
                            "      <th>MIN</th>\n",
                            "      <th>PTS</th>\n",
                            "      <th>FGM</th>\n",
                            "      <th>FGA</th>\n",
                            "      <th>FG%</th>\n",
                            "      <th>3P Made</th>\n",
                            "      <th>3PA</th>\n",
                            "      <th>3P%</th>\n",
                            "      <th>...</th>\n",
                            "      <th>FTA</th>\n",
                            "      <th>FT%</th>\n",
                            "      <th>OREB</th>\n",
                            "      <th>DREB</th>\n",
                            "      <th>REB</th>\n",
                            "      <th>AST</th>\n",
                            "      <th>STL</th>\n",
                            "      <th>BLK</th>\n",
                            "      <th>TOV</th>\n",
                            "      <th>TARGET_5Yrs</th>\n",
                            "    </tr>\n",
                            "  </thead>\n",
                            "  <tbody>\n",
                            "    <tr>\n",
                            "      <th>0</th>\n",
                            "      <td>Brandon Ingram</td>\n",
                            "      <td>36.0</td>\n",
                            "      <td>27.4</td>\n",
                            "      <td>7.4</td>\n",
                            "      <td>2.6</td>\n",
                            "      <td>7.6</td>\n",
                            "      <td>34.7</td>\n",
                            "      <td>0.5</td>\n",
                            "      <td>2.1</td>\n",
                            "      <td>25.0</td>\n",
                            "      <td>...</td>\n",
                            "      <td>2.3</td>\n",
                            "      <td>69.9</td>\n",
                            "      <td>0.7</td>\n",
                            "      <td>3.4</td>\n",
                            "      <td>4.1</td>\n",
                            "      <td>1.9</td>\n",
                            "      <td>0.4</td>\n",
                            "      <td>0.4</td>\n",
                            "      <td>1.3</td>\n",
                            "      <td>0</td>\n",
                            "    </tr>\n",
                            "    <tr>\n",
                            "      <th>1</th>\n",
                            "      <td>Andrew Harrison</td>\n",
                            "      <td>35.0</td>\n",
                            "      <td>26.9</td>\n",
                            "      <td>7.2</td>\n",
                            "      <td>2.0</td>\n",
                            "      <td>6.7</td>\n",
                            "      <td>29.6</td>\n",
                            "      <td>0.7</td>\n",
                            "      <td>2.8</td>\n",
                            "      <td>23.5</td>\n",
                            "      <td>...</td>\n",
                            "      <td>3.4</td>\n",
                            "      <td>76.5</td>\n",
                            "      <td>0.5</td>\n",
                            "      <td>2.0</td>\n",
                            "      <td>2.4</td>\n",
                            "      <td>3.7</td>\n",
                            "      <td>1.1</td>\n",
                            "      <td>0.5</td>\n",
                            "      <td>1.6</td>\n",
                            "      <td>0</td>\n",
                            "    </tr>\n",
                            "    <tr>\n",
                            "      <th>2</th>\n",
                            "      <td>JaKarr Sampson</td>\n",
                            "      <td>74.0</td>\n",
                            "      <td>15.3</td>\n",
                            "      <td>5.2</td>\n",
                            "      <td>2.0</td>\n",
                            "      <td>4.7</td>\n",
                            "      <td>42.2</td>\n",
                            "      <td>0.4</td>\n",
                            "      <td>1.7</td>\n",
                            "      <td>24.4</td>\n",
                            "      <td>...</td>\n",
                            "      <td>1.3</td>\n",
                            "      <td>67.0</td>\n",
                            "      <td>0.5</td>\n",
                            "      <td>1.7</td>\n",
                            "      <td>2.2</td>\n",
                            "      <td>1.0</td>\n",
                            "      <td>0.5</td>\n",
                            "      <td>0.3</td>\n",
                            "      <td>1.0</td>\n",
                            "      <td>0</td>\n",
                            "    </tr>\n",
                            "    <tr>\n",
                            "      <th>3</th>\n",
                            "      <td>Malik Sealy</td>\n",
                            "      <td>58.0</td>\n",
                            "      <td>11.6</td>\n",
                            "      <td>5.7</td>\n",
                            "      <td>2.3</td>\n",
                            "      <td>5.5</td>\n",
                            "      <td>42.6</td>\n",
                            "      <td>0.1</td>\n",
                            "      <td>0.5</td>\n",
                            "      <td>22.6</td>\n",
                            "      <td>...</td>\n",
                            "      <td>1.3</td>\n",
                            "      <td>68.9</td>\n",
                            "      <td>1.0</td>\n",
                            "      <td>0.9</td>\n",
                            "      <td>1.9</td>\n",
                            "      <td>0.8</td>\n",
                            "      <td>0.6</td>\n",
                            "      <td>0.1</td>\n",
                            "      <td>1.0</td>\n",
                            "      <td>1</td>\n",
                            "    </tr>\n",
                            "    <tr>\n",
                            "      <th>4</th>\n",
                            "      <td>Matt Geiger</td>\n",
                            "      <td>48.0</td>\n",
                            "      <td>11.5</td>\n",
                            "      <td>4.5</td>\n",
                            "      <td>1.6</td>\n",
                            "      <td>3.0</td>\n",
                            "      <td>52.4</td>\n",
                            "      <td>0.0</td>\n",
                            "      <td>0.1</td>\n",
                            "      <td>0.0</td>\n",
                            "      <td>...</td>\n",
                            "      <td>1.9</td>\n",
                            "      <td>67.4</td>\n",
                            "      <td>1.0</td>\n",
                            "      <td>1.5</td>\n",
                            "      <td>2.5</td>\n",
                            "      <td>0.3</td>\n",
                            "      <td>0.3</td>\n",
                            "      <td>0.4</td>\n",
                            "      <td>0.8</td>\n",
                            "      <td>1</td>\n",
                            "    </tr>\n",
                            "  </tbody>\n",
                            "</table>\n",
                            "<p>5 rows × 21 columns</p>\n",
                            "</div>"
                        ],
                        "text/plain": [
                            "              Name    GP   MIN  PTS  FGM  FGA   FG%  3P Made  3PA   3P%  ...  \\\n",
                            "0   Brandon Ingram  36.0  27.4  7.4  2.6  7.6  34.7      0.5  2.1  25.0  ...   \n",
                            "1  Andrew Harrison  35.0  26.9  7.2  2.0  6.7  29.6      0.7  2.8  23.5  ...   \n",
                            "2   JaKarr Sampson  74.0  15.3  5.2  2.0  4.7  42.2      0.4  1.7  24.4  ...   \n",
                            "3      Malik Sealy  58.0  11.6  5.7  2.3  5.5  42.6      0.1  0.5  22.6  ...   \n",
                            "4      Matt Geiger  48.0  11.5  4.5  1.6  3.0  52.4      0.0  0.1   0.0  ...   \n",
                            "\n",
                            "   FTA   FT%  OREB  DREB  REB  AST  STL  BLK  TOV  TARGET_5Yrs  \n",
                            "0  2.3  69.9   0.7   3.4  4.1  1.9  0.4  0.4  1.3            0  \n",
                            "1  3.4  76.5   0.5   2.0  2.4  3.7  1.1  0.5  1.6            0  \n",
                            "2  1.3  67.0   0.5   1.7  2.2  1.0  0.5  0.3  1.0            0  \n",
                            "3  1.3  68.9   1.0   0.9  1.9  0.8  0.6  0.1  1.0            1  \n",
                            "4  1.9  67.4   1.0   1.5  2.5  0.3  0.3  0.4  0.8            1  \n",
                            "\n",
                            "[5 rows x 21 columns]"
                        ]
                    },
                    "metadata": {},
                    "output_type": "display_data"
                }
            ],
            "source": [
                "# read the raw dataset from minio bucket if the service is down use the local dataset from the local file system\n",
                "try:\n",
                "    df = read_data_from_minio(minio_client, \"nba-investment-data\", \"nba_logreg_raw.csv\")\n",
                "    display(df.head())\n",
                "except Exception:\n",
                "    df = read_data(f\"{data_path}nba_logreg_raw.csv\")\n",
                "    #upload_file_to_minio(minio_client, f\"{data_path}nba_logreg_raw.csv\", \"nba-investment-data\", \"nba_logreg_raw.csv\")\n",
                "    df.head()"
            ]
        },
        {
            "cell_type": "code",
            "execution_count": 6,
            "metadata": {},
            "outputs": [
                {
                    "data": {
                        "text/plain": [
                            "Name            object\n",
                            "GP             float64\n",
                            "MIN            float64\n",
                            "PTS            float64\n",
                            "FGM            float64\n",
                            "FGA            float64\n",
                            "FG%            float64\n",
                            "3P Made        float64\n",
                            "3PA            float64\n",
                            "3P%            float64\n",
                            "FTM            float64\n",
                            "FTA            float64\n",
                            "FT%            float64\n",
                            "OREB           float64\n",
                            "DREB           float64\n",
                            "REB            float64\n",
                            "AST            float64\n",
                            "STL            float64\n",
                            "BLK            float64\n",
                            "TOV            float64\n",
                            "TARGET_5Yrs      int64\n",
                            "dtype: object"
                        ]
                    },
                    "execution_count": 6,
                    "metadata": {},
                    "output_type": "execute_result"
                }
            ],
            "source": [
                "# checking the data types\n",
                "df.dtypes"
            ]
        },
        {
            "cell_type": "code",
            "execution_count": 7,
            "metadata": {},
            "outputs": [],
            "source": [
                "# dropping the name column\n",
                "df.drop([\"Name\"], axis=1, inplace=True)"
            ]
        },
        {
            "cell_type": "code",
            "execution_count": 8,
            "metadata": {},
            "outputs": [
                {
                    "data": {
                        "text/plain": [
                            "GP              0\n",
                            "MIN             0\n",
                            "PTS             0\n",
                            "FGM             0\n",
                            "FGA             0\n",
                            "FG%             0\n",
                            "3P Made         0\n",
                            "3PA             0\n",
                            "3P%            11\n",
                            "FTM             0\n",
                            "FTA             0\n",
                            "FT%             0\n",
                            "OREB            0\n",
                            "DREB            0\n",
                            "REB             0\n",
                            "AST             0\n",
                            "STL             0\n",
                            "BLK             0\n",
                            "TOV             0\n",
                            "TARGET_5Yrs     0\n",
                            "dtype: int64"
                        ]
                    },
                    "execution_count": 8,
                    "metadata": {},
                    "output_type": "execute_result"
                }
            ],
            "source": [
                "# showing the number of missing values\n",
                "df.isnull().sum()"
            ]
        },
        {
            "cell_type": "code",
            "execution_count": 9,
            "metadata": {},
            "outputs": [],
            "source": [
                "# replacing the missing values with the mean of the column \"3P%\"\n",
                "df[\"3P%\"].fillna(df[\"3P%\"].mean(), inplace=True)"
            ]
        },
        {
            "cell_type": "code",
            "execution_count": 10,
            "metadata": {},
            "outputs": [
                {
                    "data": {
                        "text/plain": [
                            "True"
                        ]
                    },
                    "execution_count": 10,
                    "metadata": {},
                    "output_type": "execute_result"
                }
            ],
            "source": [
                "# storing the dataset in a new csv file in the minio bucket\n",
                "df.to_csv(f\"{data_path}nba_logreg_preprocessed.csv\", index=False)\n",
                "upload_file_to_minio(minio_client, f\"{data_path}nba_logreg_preprocessed.csv\", \"nba-investment-data\", \"nba_logreg_preprocessed.csv\")"
            ]
        },
        {
            "cell_type": "code",
            "execution_count": 11,
            "metadata": {},
            "outputs": [],
            "source": [
                "# splitting the dataset into train and test sets using stratified sampling \n",
                "train_set, test_set = train_test_split(df, test_size=0.2, random_state=42, stratify=df[\"TARGET_5Yrs\"])"
            ]
        },
        {
            "cell_type": "code",
            "execution_count": 12,
            "metadata": {},
            "outputs": [
                {
                    "data": {
                        "text/plain": [
                            "True"
                        ]
                    },
                    "execution_count": 12,
                    "metadata": {},
                    "output_type": "execute_result"
                }
            ],
            "source": [
                "# storing the train and test sets in new csv files locally\n",
                "train_set.to_csv(f\"{data_path}nba_logreg_processed_train.csv\", index=False)\n",
                "test_set.to_csv(f\"{data_path}nba_logreg_processed_test.csv\", index=False)\n",
                "\n",
                "# storing the train and test sets in new csv files in the minio bucket\n",
                "upload_file_to_minio(minio_client, f\"{data_path}nba_logreg_processed_train.csv\", \"nba-investment-data\", \"nba_logreg_processed_train.csv\")\n",
                "upload_file_to_minio(minio_client, f\"{data_path}nba_logreg_processed_test.csv\", \"nba-investment-data\", \"nba_logreg_processed_test.csv\")"
            ]
        },
        {
            "cell_type": "code",
            "execution_count": 13,
            "metadata": {},
            "outputs": [
                {
                    "name": "stdout",
                    "output_type": "stream",
                    "text": [
                        "nba_logreg_preprocessed.csv\n",
                        "nba_logreg_processed_test.csv\n",
                        "nba_logreg_processed_train.csv\n",
                        "nba_logreg_raw.csv\n"
                    ]
                }
            ],
            "source": [
                "view_files_in_bucket(minio_client, \"nba-investment-data\")"
            ]
        },
        {
            "cell_type": "code",
            "execution_count": null,
            "metadata": {},
            "outputs": [],
            "source": []
        }
    ],
    "metadata": {
        "kernelspec": {
            "display_name": "myenv",
            "language": "python",
            "name": "python3"
        },
        "language_info": {
            "codemirror_mode": {
                "name": "ipython",
                "version": 3
            },
            "file_extension": ".py",
            "mimetype": "text/x-python",
            "name": "python",
            "nbconvert_exporter": "python",
            "pygments_lexer": "ipython3",
            "version": "3.9.16"
        },
        "orig_nbformat": 4,
        "vscode": {
            "interpreter": {
                "hash": "fd46feb7e0147983149647a75fbf075b39fb418d085863eceb19864a09e283c5"
            }
        }
    },
    "nbformat": 4,
    "nbformat_minor": 2
}
